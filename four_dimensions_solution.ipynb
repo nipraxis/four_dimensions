{
 "cells": [
  {
   "cell_type": "markdown",
   "id": "72fc27f5",
   "metadata": {},
   "source": [
    "# Lost in the fourth dimension"
   ]
  },
  {
   "cell_type": "code",
   "execution_count": 1,
   "id": "042581ae",
   "metadata": {
    "execution": {
     "iopub.execute_input": "2022-04-11T12:02:39.814965Z",
     "iopub.status.busy": "2022-04-11T12:02:39.814284Z",
     "iopub.status.idle": "2022-04-11T12:02:40.083351Z",
     "shell.execute_reply": "2022-04-11T12:02:40.083744Z"
    }
   },
   "outputs": [],
   "source": [
    "#: Our usual imports\n",
    "import numpy as np  # the Python array package\n",
    "import matplotlib.pyplot as plt  # the Python plotting package"
   ]
  },
  {
   "cell_type": "markdown",
   "id": "a57d7064",
   "metadata": {},
   "source": [
    "We are going to load a four-dimensional (X, Y, Z, t) BOLD image called\n",
    "`ds107_sub012_t1r2.nii`.   First, fetch the image from the web."
   ]
  },
  {
   "cell_type": "code",
   "execution_count": 2,
   "id": "a0f0afc7",
   "metadata": {
    "execution": {
     "iopub.execute_input": "2022-04-11T12:02:40.087638Z",
     "iopub.status.busy": "2022-04-11T12:02:40.087027Z",
     "iopub.status.idle": "2022-04-11T12:02:40.221516Z",
     "shell.execute_reply": "2022-04-11T12:02:40.221997Z"
    }
   },
   "outputs": [],
   "source": [
    "import nipraxis\n",
    "image_fname = nipraxis.fetch_file('ds107_sub012_t1r2.nii')\n",
    "# Show the filename of the downloaded file.\n",
    "image_fname"
   ]
  },
  {
   "cell_type": "markdown",
   "id": "b7ea2bec",
   "metadata": {},
   "source": [
    "Import the `nibabel` module, and load the image with nibabel to create an\n",
    "image object."
   ]
  },
  {
   "cell_type": "code",
   "execution_count": 3,
   "id": "9bbc7b6b",
   "metadata": {
    "execution": {
     "iopub.execute_input": "2022-04-11T12:02:40.225770Z",
     "iopub.status.busy": "2022-04-11T12:02:40.225139Z",
     "iopub.status.idle": "2022-04-11T12:02:40.382122Z",
     "shell.execute_reply": "2022-04-11T12:02:40.382725Z"
    }
   },
   "outputs": [],
   "source": [
    "#- Import nibabel\n",
    "import nibabel as nib\n",
    "\n",
    "#- Load the image\n",
    "img = nib.load(image_fname)\n",
    "\n",
    "# Show the result\n",
    "img"
   ]
  },
  {
   "cell_type": "code",
   "execution_count": 4,
   "id": "b4226016",
   "metadata": {
    "execution": {
     "iopub.execute_input": "2022-04-11T12:02:40.387075Z",
     "iopub.status.busy": "2022-04-11T12:02:40.386468Z",
     "iopub.status.idle": "2022-04-11T12:02:40.388241Z",
     "shell.execute_reply": "2022-04-11T12:02:40.388658Z"
    }
   },
   "outputs": [],
   "source": [
    "assert 'img' in dir()\n",
    "assert img is not ...\n",
    "assert hasattr(img, 'header')"
   ]
  },
  {
   "cell_type": "markdown",
   "id": "93b7054b",
   "metadata": {},
   "source": [
    "In the usual way get the floating point array data from this image and show\n",
    "the image shape."
   ]
  },
  {
   "cell_type": "code",
   "execution_count": 5,
   "id": "818dc636",
   "metadata": {
    "execution": {
     "iopub.execute_input": "2022-04-11T12:02:40.417673Z",
     "iopub.status.busy": "2022-04-11T12:02:40.416883Z",
     "iopub.status.idle": "2022-04-11T12:02:40.513291Z",
     "shell.execute_reply": "2022-04-11T12:02:40.513785Z"
    }
   },
   "outputs": [],
   "source": [
    "#- Get image array data from image object\n",
    "data = img.get_fdata()\n",
    "\n",
    "# Show the shape.\n",
    "data.shape"
   ]
  },
  {
   "cell_type": "markdown",
   "id": "fdc9f5f9",
   "metadata": {},
   "source": [
    "Select the volume at time position 9 from 4D image data array, by slicing over\n",
    "the last dimension.  Note the shape."
   ]
  },
  {
   "cell_type": "code",
   "execution_count": 6,
   "id": "07b1fca0",
   "metadata": {
    "execution": {
     "iopub.execute_input": "2022-04-11T12:02:40.517884Z",
     "iopub.status.busy": "2022-04-11T12:02:40.517112Z",
     "iopub.status.idle": "2022-04-11T12:02:40.519843Z",
     "shell.execute_reply": "2022-04-11T12:02:40.520256Z"
    }
   },
   "outputs": [],
   "source": [
    "#- Get the 10th volume.\n",
    "tenth_vol = data[..., 9]\n",
    "# Show the shape.\n",
    "tenth_vol.shape"
   ]
  },
  {
   "cell_type": "markdown",
   "id": "c1b6e860",
   "metadata": {},
   "source": [
    "Get the standard deviation across all voxels in this 3D volume:"
   ]
  },
  {
   "cell_type": "code",
   "execution_count": 7,
   "id": "9a834ab6",
   "metadata": {
    "execution": {
     "iopub.execute_input": "2022-04-11T12:02:40.523836Z",
     "iopub.status.busy": "2022-04-11T12:02:40.523153Z",
     "iopub.status.idle": "2022-04-11T12:02:40.526739Z",
     "shell.execute_reply": "2022-04-11T12:02:40.527154Z"
    }
   },
   "outputs": [],
   "source": [
    "#- Standard deviation across all voxels for 10th volume\n",
    "ten_std = np.std(tenth_vol)\n",
    "# Show the result\n",
    "ten_std"
   ]
  },
  {
   "cell_type": "code",
   "execution_count": 8,
   "id": "09e26fa7",
   "metadata": {
    "execution": {
     "iopub.execute_input": "2022-04-11T12:02:40.531051Z",
     "iopub.status.busy": "2022-04-11T12:02:40.530409Z",
     "iopub.status.idle": "2022-04-11T12:02:40.532783Z",
     "shell.execute_reply": "2022-04-11T12:02:40.532285Z"
    }
   },
   "outputs": [],
   "source": [
    "assert np.allclose(ten_std, 387.1928)"
   ]
  },
  {
   "cell_type": "markdown",
   "id": "45310dc6",
   "metadata": {},
   "source": [
    "Loop over all volumes in the 4D image and store the standard deviation for\n",
    "each volume in a list. Plot these to see if there are any volumes with\n",
    "particularly unusual standard deviation."
   ]
  },
  {
   "cell_type": "code",
   "execution_count": 9,
   "id": "a6b7bd03",
   "metadata": {
    "execution": {
     "iopub.execute_input": "2022-04-11T12:02:40.536943Z",
     "iopub.status.busy": "2022-04-11T12:02:40.536316Z",
     "iopub.status.idle": "2022-04-11T12:02:40.705011Z",
     "shell.execute_reply": "2022-04-11T12:02:40.705501Z"
    }
   },
   "outputs": [],
   "source": [
    "#- Get standard deviation for each volume; then plot the values\n",
    "stds = []\n",
    "for i in range(data.shape[-1]):\n",
    "    vol = data[..., i]\n",
    "    stds.append(np.std(vol))\n",
    "\n",
    "# Show the result\n",
    "plt.plot(stds)"
   ]
  },
  {
   "cell_type": "markdown",
   "id": "e82e58cb",
   "metadata": {},
   "source": [
    "The [SPM imaging analysis software](https://www.fil.ion.ucl.ac.uk/spm) uses a\n",
    "measure called “global signal” to give a very rough estimate of the average\n",
    "signal value within the brain. The idea is that you need a threshold to select\n",
    "voxels with signal high enough to be inside the brain, and not in the air\n",
    "around the brain, which has very low (near 0) signal.\n",
    "\n",
    "The algorithm goes like this.\n",
    "\n",
    "* Get a single 3D volume V;\n",
    "* Calculate the mean signal of the voxels in V; call that M;\n",
    "* Make a threshold T where T = M / 8.\n",
    "* Select all voxel values in V that are greater than T; call these values W;\n",
    "* Return the mean of all values in W.\n",
    "\n",
    "See [SPM global image\n",
    "signal](http://imaging.mrc-cbu.cam.ac.uk/imaging/PrinciplesStatistics#Global_image_signal).\n",
    "\n",
    "In the SPM code, the algorithm is implemented in a MATLAB function called\n",
    "`spm_global`.\n",
    "\n",
    "I used the MATLAB script [get_global_signals.m](./get_global_signals.m)\n",
    "to run the `spm_global` MATLAB function on the volumes of\n",
    "`ds107_sub012_t1r2.nii`. The script saved the SPM global values to a text\n",
    "file [globals_signals.txt](./global_signals.txt). The first four lines of\n",
    "the `global_signals.txt` file look like this:\n",
    "\n",
    "```\n",
    "376.53\n",
    "375.75\n",
    "375.26\n",
    "376.01\n",
    "```\n",
    "\n",
    "Read these global values calculated by SPM into a list, and plot the values."
   ]
  },
  {
   "cell_type": "code",
   "execution_count": 10,
   "id": "60789064",
   "metadata": {
    "execution": {
     "iopub.execute_input": "2022-04-11T12:02:40.709477Z",
     "iopub.status.busy": "2022-04-11T12:02:40.708878Z",
     "iopub.status.idle": "2022-04-11T12:02:40.818298Z",
     "shell.execute_reply": "2022-04-11T12:02:40.818740Z"
    }
   },
   "outputs": [],
   "source": [
    "#- Read global signal values calculated by SPM, and plot\n",
    "global_signals = np.loadtxt('global_signals.txt')\n",
    "plt.plot(global_signals)"
   ]
  },
  {
   "cell_type": "markdown",
   "id": "fa9d8795",
   "metadata": {},
   "source": [
    "Now implement the algorithm above to recalculate the SPM global signal\n",
    "for the first volume (volume index zero).\n",
    "\n",
    "**Hint**: you will likely need to index using a Boolean (mask) array.\n",
    "Remember, the steps are:\n",
    "\n",
    "* Get a single 3D volume `V`;\n",
    "* Calculate the mean signal of the voxels in `V`; call that `M`;\n",
    "* Make a threshold `T` where `T = M / 8`.\n",
    "* Select all voxel values in `V` that are greater than `T`; call these\n",
    "  values `W`; Get the mean of all values in `W`.\n",
    "\n",
    "You should get the same value as SPM - the first value you read from\n",
    "`global_signals.txt`."
   ]
  },
  {
   "cell_type": "code",
   "execution_count": 11,
   "id": "539d37b2",
   "metadata": {
    "execution": {
     "iopub.execute_input": "2022-04-11T12:02:40.823299Z",
     "iopub.status.busy": "2022-04-11T12:02:40.822658Z",
     "iopub.status.idle": "2022-04-11T12:02:40.827320Z",
     "shell.execute_reply": "2022-04-11T12:02:40.827733Z"
    }
   },
   "outputs": [],
   "source": [
    "#- Apply algorithm for SPM global calculation to first volume\n",
    "#- Get volume data.\n",
    "vol = data[..., 0]\n",
    "#- Calculate threshold\n",
    "T = np.mean(vol)/ 8\n",
    "#- Select voxels greater than T\n",
    "msk = vol > T\n",
    "voxels_within = vol[msk]\n",
    "#- Calculate mean\n",
    "mean_over_T = np.mean(voxels_within)\n",
    "# Show the result\n",
    "mean_over_T"
   ]
  },
  {
   "cell_type": "code",
   "execution_count": 12,
   "id": "ac80df3d",
   "metadata": {
    "execution": {
     "iopub.execute_input": "2022-04-11T12:02:40.831174Z",
     "iopub.status.busy": "2022-04-11T12:02:40.830569Z",
     "iopub.status.idle": "2022-04-11T12:02:40.832380Z",
     "shell.execute_reply": "2022-04-11T12:02:40.832844Z"
    }
   },
   "outputs": [],
   "source": [
    "# Check against value calculated by SPM\n",
    "assert round(mean_over_T, 2) == 376.53"
   ]
  },
  {
   "cell_type": "markdown",
   "id": "e007be53",
   "metadata": {},
   "source": [
    "Make a function called `spm_global` that accepts a 3D array as input, and\n",
    "returns the global signal using the SPM algorithm. You will see there is a line\n",
    "to call that function on the first volume to show that it is working.\n",
    "\n",
    "If you don't remember how to make your own functions, the cell has a skeleton\n",
    "for the function, but it does not yet work correctly - it always returns the\n",
    "value 42."
   ]
  },
  {
   "cell_type": "code",
   "execution_count": 13,
   "id": "f41d4ff3",
   "metadata": {
    "execution": {
     "iopub.execute_input": "2022-04-11T12:02:40.837097Z",
     "iopub.status.busy": "2022-04-11T12:02:40.836482Z",
     "iopub.status.idle": "2022-04-11T12:02:40.840104Z",
     "shell.execute_reply": "2022-04-11T12:02:40.840516Z"
    }
   },
   "outputs": [],
   "source": [
    "# Make an `spm_global` function that accepts a 3D array as input,\n",
    "# and returns the global mean for the volume according to the SPM\n",
    "# algorithm\n",
    "def spm_global(vol):\n",
    "    # vol is a 3D array.\n",
    "    T = np.mean(vol) / 8\n",
    "    return np.mean(vol[vol > T])\n",
    "\n",
    "# Show the result from the calling the function on the first volume.\n",
    "print(spm_global(data[:, :, :, 0]))"
   ]
  },
  {
   "cell_type": "markdown",
   "id": "76c1af8c",
   "metadata": {},
   "source": [
    "Make a function called `get_spm_globals` that accepts an image filename as\n",
    "an argument. The function will load the image, get the array data for the\n",
    "image, use your new `spm_global` function calculate the global value for\n",
    "each volume, and return these values as a list."
   ]
  },
  {
   "cell_type": "code",
   "execution_count": 14,
   "id": "736695b6",
   "metadata": {
    "execution": {
     "iopub.execute_input": "2022-04-11T12:02:40.845231Z",
     "iopub.status.busy": "2022-04-11T12:02:40.844607Z",
     "iopub.status.idle": "2022-04-11T12:02:41.215009Z",
     "shell.execute_reply": "2022-04-11T12:02:41.215426Z"
    }
   },
   "outputs": [],
   "source": [
    "# Write a function `get_spm_globals` that returns the global values\n",
    "# for each volume\n",
    "def get_spm_globals(fname):\n",
    "    #- Load the image given by \"fname\".\n",
    "    img = nib.load(fname)\n",
    "    #- Get the data\n",
    "    data = img.get_fdata()\n",
    "    #- Calculate the SPM global value for each volume.\n",
    "    spm_vals = []\n",
    "    for i in range(data.shape[-1]):\n",
    "        vol = data[..., i]\n",
    "        spm_vals.append(spm_global(vol))\n",
    "    return spm_vals  # Return the result.\n",
    "\n",
    "# Call the function to get the result.\n",
    "all_globals = get_spm_globals(image_fname)\n",
    "# Plot the result.\n",
    "plt.plot(all_globals)"
   ]
  },
  {
   "cell_type": "markdown",
   "id": "02f05369",
   "metadata": {},
   "source": [
    "## Done.\n",
    "\n",
    "Congratulations, you're done with the assignment!  Be sure to:\n",
    "\n",
    "- **run all the tests** by using Kernel - Restart and Run All.\n",
    "- **Save and Checkpoint** from the `File` menu, to keep a record of your\n",
    "  solution.\n",
    "\n",
    "You might now want to look at [the\n",
    "solution](four_dimensions_solution.ipynb)."
   ]
  }
 ],
 "metadata": {
  "jupytext": {
   "notebook_metadata_filter": "all,-language_info",
   "split_at_heading": true,
   "text_representation": {
    "extension": ".Rmd",
    "format_name": "rmarkdown",
    "format_version": "1.2",
    "jupytext_version": "1.13.7"
   }
  },
  "kernelspec": {
   "display_name": "Python 3",
   "language": "python",
   "name": "python3"
  },
  "language_info": {
   "codemirror_mode": {
    "name": "ipython",
    "version": 3
   },
   "file_extension": ".py",
   "mimetype": "text/x-python",
   "name": "python",
   "nbconvert_exporter": "python",
   "pygments_lexer": "ipython3",
   "version": "3.8.13"
  }
 },
 "nbformat": 4,
 "nbformat_minor": 5
}
