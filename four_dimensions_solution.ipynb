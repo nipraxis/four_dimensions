{
 "cells": [
  {
   "cell_type": "markdown",
   "id": "ff07110f",
   "metadata": {},
   "source": [
    "# Lost in the fourth dimension"
   ]
  },
  {
   "cell_type": "code",
   "execution_count": 1,
   "id": "32b8aaf2",
   "metadata": {
    "execution": {
     "iopub.execute_input": "2022-04-11T11:54:10.298644Z",
     "iopub.status.busy": "2022-04-11T11:54:10.297955Z",
     "iopub.status.idle": "2022-04-11T11:54:10.564606Z",
     "shell.execute_reply": "2022-04-11T11:54:10.565143Z"
    }
   },
   "outputs": [],
   "source": [
    "#: Our usual imports\n",
    "import numpy as np  # the Python array package\n",
    "import matplotlib.pyplot as plt  # the Python plotting package"
   ]
  },
  {
   "cell_type": "markdown",
   "id": "3320b645",
   "metadata": {},
   "source": [
    "We are going to load a four-dimensional (X, Y, Z, t) BOLD image called\n",
    "`ds107_sub012_t1r2.nii`.   First, fetch the image from the web."
   ]
  },
  {
   "cell_type": "code",
   "execution_count": 2,
   "id": "7c46ec6f",
   "metadata": {
    "execution": {
     "iopub.execute_input": "2022-04-11T11:54:10.569180Z",
     "iopub.status.busy": "2022-04-11T11:54:10.568510Z",
     "iopub.status.idle": "2022-04-11T11:54:10.702690Z",
     "shell.execute_reply": "2022-04-11T11:54:10.703105Z"
    }
   },
   "outputs": [],
   "source": [
    "import nipraxis\n",
    "image_fname = nipraxis.fetch_file('ds107_sub012_t1r2.nii')\n",
    "# Show the filename of the downloaded file.\n",
    "image_fname"
   ]
  },
  {
   "cell_type": "markdown",
   "id": "d21ffba2",
   "metadata": {},
   "source": [
    "Import the `nibabel` module, and load the image with nibabel to create an\n",
    "image object."
   ]
  },
  {
   "cell_type": "code",
   "execution_count": 3,
   "id": "f64cadab",
   "metadata": {
    "execution": {
     "iopub.execute_input": "2022-04-11T11:54:10.706842Z",
     "iopub.status.busy": "2022-04-11T11:54:10.706229Z",
     "iopub.status.idle": "2022-04-11T11:54:10.861597Z",
     "shell.execute_reply": "2022-04-11T11:54:10.862026Z"
    }
   },
   "outputs": [],
   "source": [
    "#- Import nibabel\n",
    "import nibabel as nib\n",
    "\n",
    "#- Load the image\n",
    "img = nib.load(image_fname)\n",
    "\n",
    "# Show the result\n",
    "img"
   ]
  },
  {
   "cell_type": "code",
   "execution_count": 4,
   "id": "e6380ff8",
   "metadata": {
    "execution": {
     "iopub.execute_input": "2022-04-11T11:54:10.865915Z",
     "iopub.status.busy": "2022-04-11T11:54:10.865263Z",
     "iopub.status.idle": "2022-04-11T11:54:10.867200Z",
     "shell.execute_reply": "2022-04-11T11:54:10.867618Z"
    }
   },
   "outputs": [],
   "source": [
    "assert 'img' in dir()\n",
    "assert img is not ...\n",
    "assert hasattr(img, 'header')"
   ]
  },
  {
   "cell_type": "markdown",
   "id": "5680860d",
   "metadata": {},
   "source": [
    "In the usual way get the floating point array data from this image and show\n",
    "the image shape."
   ]
  },
  {
   "cell_type": "code",
   "execution_count": 5,
   "id": "d9e90654",
   "metadata": {
    "execution": {
     "iopub.execute_input": "2022-04-11T11:54:10.896417Z",
     "iopub.status.busy": "2022-04-11T11:54:10.895730Z",
     "iopub.status.idle": "2022-04-11T11:54:10.993248Z",
     "shell.execute_reply": "2022-04-11T11:54:10.993668Z"
    }
   },
   "outputs": [],
   "source": [
    "#- Get image array data from image object\n",
    "data = img.get_fdata()\n",
    "\n",
    "# Show the shape.\n",
    "data.shape"
   ]
  },
  {
   "cell_type": "markdown",
   "id": "198d3646",
   "metadata": {},
   "source": [
    "Select the volume at time position 9 from 4D image data array, by slicing over\n",
    "the last dimension.  Note the shape."
   ]
  },
  {
   "cell_type": "code",
   "execution_count": 6,
   "id": "ab7dd523",
   "metadata": {
    "execution": {
     "iopub.execute_input": "2022-04-11T11:54:10.997760Z",
     "iopub.status.busy": "2022-04-11T11:54:10.997152Z",
     "iopub.status.idle": "2022-04-11T11:54:10.999697Z",
     "shell.execute_reply": "2022-04-11T11:54:11.000115Z"
    }
   },
   "outputs": [],
   "source": [
    "#- Get the 10th volume.\n",
    "tenth_vol = data[..., 9]\n",
    "# Show the shape.\n",
    "tenth_vol.shape"
   ]
  },
  {
   "cell_type": "markdown",
   "id": "2806ef97",
   "metadata": {},
   "source": [
    "Get the standard deviation across all voxels in this 3D volume:"
   ]
  },
  {
   "cell_type": "code",
   "execution_count": 7,
   "id": "8dc28015",
   "metadata": {
    "execution": {
     "iopub.execute_input": "2022-04-11T11:54:11.003523Z",
     "iopub.status.busy": "2022-04-11T11:54:11.002912Z",
     "iopub.status.idle": "2022-04-11T11:54:11.006628Z",
     "shell.execute_reply": "2022-04-11T11:54:11.007101Z"
    }
   },
   "outputs": [],
   "source": [
    "#- Standard deviation across all voxels for 10th volume\n",
    "ten_std = np.std(tenth_vol)\n",
    "# Show the result\n",
    "ten_std"
   ]
  },
  {
   "cell_type": "code",
   "execution_count": 8,
   "id": "735f0ebf",
   "metadata": {
    "execution": {
     "iopub.execute_input": "2022-04-11T11:54:11.011320Z",
     "iopub.status.busy": "2022-04-11T11:54:11.010718Z",
     "iopub.status.idle": "2022-04-11T11:54:11.012594Z",
     "shell.execute_reply": "2022-04-11T11:54:11.013001Z"
    }
   },
   "outputs": [],
   "source": [
    "assert np.allclose(ten_std, 387.1928)"
   ]
  },
  {
   "cell_type": "markdown",
   "id": "0d4f0338",
   "metadata": {},
   "source": [
    "Loop over all volumes in the 4D image and store the standard deviation for\n",
    "each volume in a list. Plot these to see if there are any volumes with\n",
    "particularly unusual standard deviation."
   ]
  },
  {
   "cell_type": "code",
   "execution_count": 9,
   "id": "4a520326",
   "metadata": {
    "execution": {
     "iopub.execute_input": "2022-04-11T11:54:11.017163Z",
     "iopub.status.busy": "2022-04-11T11:54:11.016516Z",
     "iopub.status.idle": "2022-04-11T11:54:11.191558Z",
     "shell.execute_reply": "2022-04-11T11:54:11.192093Z"
    }
   },
   "outputs": [],
   "source": [
    "#- Get standard deviation for each volume; then plot the values\n",
    "stds = []\n",
    "for i in range(data.shape[-1]):\n",
    "    vol = data[..., i]\n",
    "    stds.append(np.std(vol))\n",
    "\n",
    "# Show the result\n",
    "plt.plot(stds)"
   ]
  },
  {
   "cell_type": "markdown",
   "id": "ce2fe7ec",
   "metadata": {},
   "source": [
    "The [SPM imaging analysis software](https://www.fil.ion.ucl.ac.uk/spm) uses a\n",
    "measure called “global signal” to give a very rough estimate of the average\n",
    "signal value within the brain. The idea is that you need a threshold to select\n",
    "voxels with signal high enough to be inside the brain, and not in the air\n",
    "around the brain, which has very low (near 0) signal.\n",
    "\n",
    "The algorithm goes like this.\n",
    "\n",
    "* Get a single 3D volume V;\n",
    "* Calculate the mean signal of the voxels in V; call that M;\n",
    "* Make a threshold T where T = M / 8.\n",
    "* Select all voxel values in V that are greater than T; call these values W;\n",
    "* Return the mean of all values in W.\n",
    "\n",
    "See [SPM global image\n",
    "signal](http://imaging.mrc-cbu.cam.ac.uk/imaging/PrinciplesStatistics#Global_image_signal).\n",
    "\n",
    "In the SPM code, the algorithm is implemented in a MATLAB function called\n",
    "`spm_global`.\n",
    "\n",
    "I used the MATLAB script [get_global_signals.m](./get_global_signals.m)\n",
    "to run the `spm_global` MATLAB function on the volumes of\n",
    "`ds107_sub012_t1r2.nii`. The script saved the SPM global values to a text\n",
    "file [globals_signals.txt](./global_signals.txt). The first four lines of\n",
    "the `global_signals.txt` file look like this:\n",
    "\n",
    "```\n",
    "376.53\n",
    "375.75\n",
    "375.26\n",
    "376.01\n",
    "```\n",
    "\n",
    "Read these global values calculated by SPM into a list, and plot the values."
   ]
  },
  {
   "cell_type": "code",
   "execution_count": 10,
   "id": "31a9887f",
   "metadata": {
    "execution": {
     "iopub.execute_input": "2022-04-11T11:54:11.196746Z",
     "iopub.status.busy": "2022-04-11T11:54:11.195985Z",
     "iopub.status.idle": "2022-04-11T11:54:11.304609Z",
     "shell.execute_reply": "2022-04-11T11:54:11.305024Z"
    }
   },
   "outputs": [],
   "source": [
    "#- Read global signal values calculated by SPM, and plot\n",
    "global_signals = np.loadtxt('global_signals.txt')\n",
    "plt.plot(global_signals)"
   ]
  },
  {
   "cell_type": "markdown",
   "id": "a9e723f1",
   "metadata": {},
   "source": [
    "Now implement the algorithm above to recalculate the SPM global signal\n",
    "for the first volume (volume index zero).\n",
    "\n",
    "**Hint**: you will likely need to index using a Boolean (mask) array.\n",
    "Remember, the steps are:\n",
    "\n",
    "* Get a single 3D volume `V`;\n",
    "* Calculate the mean signal of the voxels in `V`; call that `M`;\n",
    "* Make a threshold `T` where `T = M / 8`.\n",
    "* Select all voxel values in `V` that are greater than `T`; call these\n",
    "  values `W`; Get the mean of all values in `W`.\n",
    "\n",
    "You should get the same value as SPM - the first value you read from\n",
    "`global_signals.txt`."
   ]
  },
  {
   "cell_type": "code",
   "execution_count": 11,
   "id": "dc36ffdc",
   "metadata": {
    "execution": {
     "iopub.execute_input": "2022-04-11T11:54:11.309812Z",
     "iopub.status.busy": "2022-04-11T11:54:11.309160Z",
     "iopub.status.idle": "2022-04-11T11:54:11.313612Z",
     "shell.execute_reply": "2022-04-11T11:54:11.314088Z"
    }
   },
   "outputs": [],
   "source": [
    "#- Apply algorithm for SPM global calculation to first volume\n",
    "vol = data[..., 0]\n",
    "T = np.mean(vol)/ 8\n",
    "msk = vol > T\n",
    "W = vol[msk]\n",
    "np.mean(W)"
   ]
  },
  {
   "cell_type": "markdown",
   "id": "a4da1a1d",
   "metadata": {},
   "source": [
    "Make a function called `spm_global` that accepts a 3D array as input, and\n",
    "returns the global signal using the SPM algorithm. Call that function on the\n",
    "first volume to show that it is working (as in `print(spm_global(data[:, :, :,\n",
    "0]))`).\n",
    "\n",
    "If you don't remember how to make your own functions, the cell has a skeleton\n",
    "for the function, but it does not yet work correctly - it always returns the\n",
    "value 42."
   ]
  },
  {
   "cell_type": "code",
   "execution_count": 12,
   "id": "981423e8",
   "metadata": {
    "execution": {
     "iopub.execute_input": "2022-04-11T11:54:11.318295Z",
     "iopub.status.busy": "2022-04-11T11:54:11.317583Z",
     "iopub.status.idle": "2022-04-11T11:54:11.322359Z",
     "shell.execute_reply": "2022-04-11T11:54:11.321840Z"
    }
   },
   "outputs": [],
   "source": [
    "# Make an `spm_global` function that accepts a 3D array as input,\n",
    "# and returns the global mean for the volume according to the SPM\n",
    "# algorithm\n",
    "def spm_global(vol):\n",
    "    T = np.mean(vol) / 8\n",
    "    return np.mean(vol[vol > T])\n",
    "\n",
    "# Show the result from the calling the function on the first volume.\n",
    "print(spm_global(data[:, :, :, 0]))"
   ]
  },
  {
   "cell_type": "markdown",
   "id": "84dc8f92",
   "metadata": {},
   "source": [
    "Make a function called `get_spm_globals` that accepts an image filename as\n",
    "an argument. The function will load the image, get the array data for the\n",
    "image, use your new `spm_global` function calculate the global value for\n",
    "each volume, and return these values as a list. "
   ]
  },
  {
   "cell_type": "code",
   "execution_count": 13,
   "id": "ecd1efe5",
   "metadata": {
    "execution": {
     "iopub.execute_input": "2022-04-11T11:54:11.327274Z",
     "iopub.status.busy": "2022-04-11T11:54:11.326601Z",
     "iopub.status.idle": "2022-04-11T11:54:11.724217Z",
     "shell.execute_reply": "2022-04-11T11:54:11.724639Z"
    }
   },
   "outputs": [],
   "source": [
    "# Write a function `get_spm_globals` that returns the global values\n",
    "# for each volume\n",
    "def get_spm_globals(fname):\n",
    "    #- Load the image given by \"fname\".\n",
    "    img = nib.load(fname)\n",
    "    #- Get the data\n",
    "    data = img.get_fdata()\n",
    "    #- Calculate the SPM global value for each volume.\n",
    "    spm_vals = []\n",
    "    for i in range(data.shape[-1]):\n",
    "        vol = data[..., i]\n",
    "        spm_vals.append(spm_global(vol))\n",
    "    return spm_vals  # Return the result.\n",
    "\n",
    "# Call the function to get the result.\n",
    "all_globals = get_spm_globals(image_fname)\n",
    "# Plot the result.\n",
    "plt.plot(all_globals)"
   ]
  },
  {
   "cell_type": "markdown",
   "id": "0449166e",
   "metadata": {},
   "source": [
    "## Done.\n",
    "\n",
    "Congratulations, you're done with the assignment!  Be sure to:\n",
    "\n",
    "- **run all the tests** by using Kernel - Restart and Run All.\n",
    "- **Save and Checkpoint** from the `File` menu, to keep a record of your\n",
    "  solution.\n",
    "\n",
    "You might now want to look at [the\n",
    "solution](four_dimensions_solution.ipynb)."
   ]
  }
 ],
 "metadata": {
  "jupytext": {
   "main_language": "python",
   "text_representation": {
    "extension": ".Rmd",
    "format_name": "rmarkdown",
    "format_version": "1.2",
    "jupytext_version": "1.11.5"
   }
  },
  "language_info": {
   "codemirror_mode": {
    "name": "ipython",
    "version": 3
   },
   "file_extension": ".py",
   "mimetype": "text/x-python",
   "name": "python",
   "nbconvert_exporter": "python",
   "pygments_lexer": "ipython3",
   "version": "3.8.13"
  }
 },
 "nbformat": 4,
 "nbformat_minor": 5
}
